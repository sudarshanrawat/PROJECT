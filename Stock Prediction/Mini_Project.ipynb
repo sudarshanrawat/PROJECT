{
 "cells": [
  {
   "cell_type": "code",
   "execution_count": 22,
   "id": "356df69f",
   "metadata": {},
   "outputs": [],
   "source": [
    "import numpy as np \n",
    "import pandas as pd \n",
    "import matplotlib.pyplot as plt \n",
    "from sklearn.preprocessing import MinMaxScaler\n",
    "from keras.models import Sequential\n",
    "from keras.layers import Dense,LSTM,Dropout"
   ]
  },
  {
   "cell_type": "code",
   "execution_count": 37,
   "id": "f9d318ab",
   "metadata": {},
   "outputs": [
    {
     "data": {
      "text/html": [
       "<div>\n",
       "<style scoped>\n",
       "    .dataframe tbody tr th:only-of-type {\n",
       "        vertical-align: middle;\n",
       "    }\n",
       "\n",
       "    .dataframe tbody tr th {\n",
       "        vertical-align: top;\n",
       "    }\n",
       "\n",
       "    .dataframe thead th {\n",
       "        text-align: right;\n",
       "    }\n",
       "</style>\n",
       "<table border=\"1\" class=\"dataframe\">\n",
       "  <thead>\n",
       "    <tr style=\"text-align: right;\">\n",
       "      <th></th>\n",
       "      <th>Date</th>\n",
       "      <th>Open</th>\n",
       "      <th>High</th>\n",
       "      <th>Low</th>\n",
       "      <th>Close</th>\n",
       "      <th>Volume</th>\n",
       "    </tr>\n",
       "  </thead>\n",
       "  <tbody>\n",
       "    <tr>\n",
       "      <th>0</th>\n",
       "      <td>1/3/2012</td>\n",
       "      <td>325.25</td>\n",
       "      <td>332.83</td>\n",
       "      <td>324.97</td>\n",
       "      <td>663.59</td>\n",
       "      <td>7,380,500</td>\n",
       "    </tr>\n",
       "    <tr>\n",
       "      <th>1</th>\n",
       "      <td>1/4/2012</td>\n",
       "      <td>331.27</td>\n",
       "      <td>333.87</td>\n",
       "      <td>329.08</td>\n",
       "      <td>666.45</td>\n",
       "      <td>5,749,400</td>\n",
       "    </tr>\n",
       "    <tr>\n",
       "      <th>2</th>\n",
       "      <td>1/5/2012</td>\n",
       "      <td>329.83</td>\n",
       "      <td>330.75</td>\n",
       "      <td>326.89</td>\n",
       "      <td>657.21</td>\n",
       "      <td>6,590,300</td>\n",
       "    </tr>\n",
       "    <tr>\n",
       "      <th>3</th>\n",
       "      <td>1/6/2012</td>\n",
       "      <td>328.34</td>\n",
       "      <td>328.77</td>\n",
       "      <td>323.68</td>\n",
       "      <td>648.24</td>\n",
       "      <td>5,405,900</td>\n",
       "    </tr>\n",
       "    <tr>\n",
       "      <th>4</th>\n",
       "      <td>1/9/2012</td>\n",
       "      <td>322.04</td>\n",
       "      <td>322.29</td>\n",
       "      <td>309.46</td>\n",
       "      <td>620.76</td>\n",
       "      <td>11,688,800</td>\n",
       "    </tr>\n",
       "  </tbody>\n",
       "</table>\n",
       "</div>"
      ],
      "text/plain": [
       "       Date    Open    High     Low   Close      Volume\n",
       "0  1/3/2012  325.25  332.83  324.97  663.59   7,380,500\n",
       "1  1/4/2012  331.27  333.87  329.08  666.45   5,749,400\n",
       "2  1/5/2012  329.83  330.75  326.89  657.21   6,590,300\n",
       "3  1/6/2012  328.34  328.77  323.68  648.24   5,405,900\n",
       "4  1/9/2012  322.04  322.29  309.46  620.76  11,688,800"
      ]
     },
     "execution_count": 37,
     "metadata": {},
     "output_type": "execute_result"
    }
   ],
   "source": [
    "data = pd.read_csv(\"C:/Users/HP/OneDrive/Desktop/dataset/Google_train_data.csv\")\n",
    "data.head()"
   ]
  },
  {
   "cell_type": "code",
   "execution_count": 36,
   "id": "a0541353",
   "metadata": {},
   "outputs": [
    {
     "name": "stdout",
     "output_type": "stream",
     "text": [
      "<class 'pandas.core.frame.DataFrame'>\n",
      "Int64Index: 1149 entries, 0 to 1257\n",
      "Data columns (total 6 columns):\n",
      " #   Column  Non-Null Count  Dtype  \n",
      "---  ------  --------------  -----  \n",
      " 0   Date    1149 non-null   object \n",
      " 1   Open    1149 non-null   float64\n",
      " 2   High    1149 non-null   float64\n",
      " 3   Low     1149 non-null   float64\n",
      " 4   Close   1149 non-null   float64\n",
      " 5   Volume  1149 non-null   object \n",
      "dtypes: float64(4), object(2)\n",
      "memory usage: 62.8+ KB\n"
     ]
    }
   ],
   "source": [
    "data.info()"
   ]
  },
  {
   "cell_type": "code",
   "execution_count": 25,
   "id": "b97bf07d",
   "metadata": {},
   "outputs": [],
   "source": [
    "data[\"Close\"]=pd.to_numeric(data.Close,errors='coerce')\n",
    "data = data.dropna()\n",
    "trainData = data.iloc[:,4:5].values"
   ]
  },
  {
   "cell_type": "code",
   "execution_count": 26,
   "id": "a913cd1f",
   "metadata": {},
   "outputs": [
    {
     "name": "stdout",
     "output_type": "stream",
     "text": [
      "<class 'pandas.core.frame.DataFrame'>\n",
      "Int64Index: 1149 entries, 0 to 1257\n",
      "Data columns (total 6 columns):\n",
      " #   Column  Non-Null Count  Dtype  \n",
      "---  ------  --------------  -----  \n",
      " 0   Date    1149 non-null   object \n",
      " 1   Open    1149 non-null   float64\n",
      " 2   High    1149 non-null   float64\n",
      " 3   Low     1149 non-null   float64\n",
      " 4   Close   1149 non-null   float64\n",
      " 5   Volume  1149 non-null   object \n",
      "dtypes: float64(4), object(2)\n",
      "memory usage: 62.8+ KB\n"
     ]
    }
   ],
   "source": [
    "data.info()"
   ]
  },
  {
   "cell_type": "code",
   "execution_count": 27,
   "id": "49b35e46",
   "metadata": {},
   "outputs": [
    {
     "data": {
      "text/plain": [
       "(1149, 1)"
      ]
     },
     "execution_count": 27,
     "metadata": {},
     "output_type": "execute_result"
    }
   ],
   "source": [
    "sc = MinMaxScaler(feature_range=(0,1))\n",
    "trainData = sc.fit_transform(trainData)\n",
    "trainData.shape"
   ]
  },
  {
   "cell_type": "code",
   "execution_count": 28,
   "id": "fbf72c3d",
   "metadata": {},
   "outputs": [],
   "source": [
    "X_train = []\n",
    "y_train = []\n",
    "\n",
    "for i in range (60,1149): #60 : timestep // 1149 : length of the data\n",
    "    X_train.append(trainData[i-60:i,0]) \n",
    "    y_train.append(trainData[i,0])\n",
    "\n",
    "X_train,y_train = np.array(X_train),np.array(y_train)"
   ]
  },
  {
   "cell_type": "code",
   "execution_count": 29,
   "id": "2abefdef",
   "metadata": {},
   "outputs": [
    {
     "data": {
      "text/plain": [
       "(1089, 60, 1)"
      ]
     },
     "execution_count": 29,
     "metadata": {},
     "output_type": "execute_result"
    }
   ],
   "source": [
    "X_train = np.reshape(X_train,(X_train.shape[0],X_train.shape[1],1)) #adding the batch_size axis\n",
    "X_train.shape"
   ]
  },
  {
   "cell_type": "code",
   "execution_count": 38,
   "id": "4471b1dd",
   "metadata": {},
   "outputs": [],
   "source": [
    "model = Sequential()\n",
    "\n",
    "model.add(LSTM(units=100, return_sequences = True, input_shape =(X_train.shape[1],1)))\n",
    "model.add(Dropout(0.2))\n",
    "\n",
    "model.add(LSTM(units=100, return_sequences = True))\n",
    "model.add(Dropout(0.2))\n",
    "\n",
    "model.add(LSTM(units=100, return_sequences = True))\n",
    "model.add(Dropout(0.2))\n",
    "\n",
    "model.add(LSTM(units=100, return_sequences = False))\n",
    "model.add(Dropout(0.2))\n",
    "\n",
    "model.add(Dense(units =1))\n",
    "model.compile(optimizer='adam',loss=\"mean_squared_error\")"
   ]
  },
  {
   "cell_type": "code",
   "execution_count": 31,
   "id": "26448d86",
   "metadata": {},
   "outputs": [
    {
     "name": "stdout",
     "output_type": "stream",
     "text": [
      "Epoch 1/20\n",
      "35/35 - 17s - loss: 0.0325 - 17s/epoch - 482ms/step\n",
      "Epoch 2/20\n",
      "35/35 - 6s - loss: 0.0109 - 6s/epoch - 159ms/step\n",
      "Epoch 3/20\n",
      "35/35 - 6s - loss: 0.0088 - 6s/epoch - 161ms/step\n",
      "Epoch 4/20\n",
      "35/35 - 6s - loss: 0.0077 - 6s/epoch - 161ms/step\n",
      "Epoch 5/20\n",
      "35/35 - 6s - loss: 0.0073 - 6s/epoch - 159ms/step\n",
      "Epoch 6/20\n",
      "35/35 - 6s - loss: 0.0086 - 6s/epoch - 169ms/step\n",
      "Epoch 7/20\n",
      "35/35 - 6s - loss: 0.0070 - 6s/epoch - 167ms/step\n",
      "Epoch 8/20\n",
      "35/35 - 6s - loss: 0.0069 - 6s/epoch - 177ms/step\n",
      "Epoch 9/20\n",
      "35/35 - 6s - loss: 0.0079 - 6s/epoch - 174ms/step\n",
      "Epoch 10/20\n",
      "35/35 - 6s - loss: 0.0059 - 6s/epoch - 177ms/step\n",
      "Epoch 11/20\n",
      "35/35 - 6s - loss: 0.0054 - 6s/epoch - 179ms/step\n",
      "Epoch 12/20\n",
      "35/35 - 6s - loss: 0.0061 - 6s/epoch - 167ms/step\n",
      "Epoch 13/20\n",
      "35/35 - 6s - loss: 0.0058 - 6s/epoch - 175ms/step\n",
      "Epoch 14/20\n",
      "35/35 - 6s - loss: 0.0053 - 6s/epoch - 159ms/step\n",
      "Epoch 15/20\n",
      "35/35 - 6s - loss: 0.0050 - 6s/epoch - 166ms/step\n",
      "Epoch 16/20\n",
      "35/35 - 6s - loss: 0.0047 - 6s/epoch - 176ms/step\n",
      "Epoch 17/20\n",
      "35/35 - 6s - loss: 0.0059 - 6s/epoch - 159ms/step\n",
      "Epoch 18/20\n",
      "35/35 - 6s - loss: 0.0059 - 6s/epoch - 180ms/step\n",
      "Epoch 19/20\n",
      "35/35 - 6s - loss: 0.0053 - 6s/epoch - 181ms/step\n",
      "Epoch 20/20\n",
      "35/35 - 6s - loss: 0.0049 - 6s/epoch - 173ms/step\n"
     ]
    }
   ],
   "source": [
    "hist = model.fit(X_train, y_train, epochs = 20, batch_size = 32, verbose=2)"
   ]
  },
  {
   "cell_type": "code",
   "execution_count": 32,
   "id": "e98a42cd",
   "metadata": {},
   "outputs": [
    {
     "data": {
      "image/png": "[encoded data removed]",
      "text/plain": [
       "<Figure size 432x288 with 1 Axes>"
      ]
     },
     "metadata": {
      "needs_background": "light"
     },
     "output_type": "display_data"
    }
   ],
   "source": [
    "plt.plot(hist.history['loss'])\n",
    "plt.title('Training model loss')\n",
    "plt.ylabel('loss')\n",
    "plt.xlabel('epoch')\n",
    "plt.legend(['train'], loc='upper left')\n",
    "plt.show()"
   ]
  },
  {
   "cell_type": "code",
   "execution_count": 33,
   "id": "f7634df1",
   "metadata": {},
   "outputs": [
    {
     "data": {
      "text/plain": [
       "(192, 60, 1)"
      ]
     },
     "execution_count": 33,
     "metadata": {},
     "output_type": "execute_result"
    }
   ],
   "source": [
    "testData = pd.read_csv(\"C:\\Users\\HP\\OneDrive\\Desktop\\dataset\\Google_test_data.csv\")\n",
    "testData[\"Close\"]=pd.to_numeric(testData.Close,errors='coerce')\n",
    "testData = testData.dropna()\n",
    "testData = testData.iloc[:,4:5]\n",
    "y_test = testData.iloc[60:,0:].values \n",
    "#input array for the model\n",
    "inputClosing = testData.iloc[:,0:].values \n",
    "inputClosing_scaled = sc.transform(inputClosing)\n",
    "inputClosing_scaled.shape\n",
    "X_test = []\n",
    "length = len(testData)\n",
    "timestep = 60\n",
    "for i in range(timestep,length):  \n",
    "    X_test.append(inputClosing_scaled[i-timestep:i,0])\n",
    "X_test = np.array(X_test)\n",
    "X_test = np.reshape(X_test,(X_test.shape[0],X_test.shape[1],1))\n",
    "X_test.shape"
   ]
  },
  {
   "cell_type": "code",
   "execution_count": 34,
   "id": "ed5373cd",
   "metadata": {},
   "outputs": [
    {
     "name": "stdout",
     "output_type": "stream",
     "text": [
      "6/6 [==============================] - 3s 59ms/step\n"
     ]
    },
    {
     "data": {
      "text/plain": [
       "array([[1.3057238],\n",
       "       [1.3093446],\n",
       "       [1.3226019],\n",
       "       [1.3421034],\n",
       "       [1.356674 ],\n",
       "       [1.3538219],\n",
       "       [1.3350691],\n",
       "       [1.3114668],\n",
       "       [1.2976292],\n",
       "       [1.2958571],\n",
       "       [1.2904959],\n",
       "       [1.279405 ],\n",
       "       [1.2692606],\n",
       "       [1.2598177],\n",
       "       [1.2589153],\n",
       "       [1.265611 ],\n",
       "       [1.2880532],\n",
       "       [1.3219894],\n",
       "       [1.3592031],\n",
       "       [1.394356 ],\n",
       "       [1.4049069],\n",
       "       [1.3954607],\n",
       "       [1.3665398],\n",
       "       [1.3294588],\n",
       "       [1.2990098],\n",
       "       [1.2850201],\n",
       "       [1.2862636],\n",
       "       [1.2910191],\n",
       "       [1.2860214],\n",
       "       [1.2746717],\n",
       "       [1.2608844],\n",
       "       [1.244846 ],\n",
       "       [1.2208947],\n",
       "       [1.1917292],\n",
       "       [1.181257 ],\n",
       "       [1.1951045],\n",
       "       [1.2234162],\n",
       "       [1.2536116],\n",
       "       [1.2799455],\n",
       "       [1.2904211],\n",
       "       [1.3004665],\n",
       "       [1.3143598],\n",
       "       [1.3321952],\n",
       "       [1.3493961],\n",
       "       [1.3607025],\n",
       "       [1.360757 ],\n",
       "       [1.347763 ],\n",
       "       [1.3369268],\n",
       "       [1.3353089],\n",
       "       [1.3445654],\n",
       "       [1.3625176],\n",
       "       [1.3745576],\n",
       "       [1.3775353],\n",
       "       [1.3730541],\n",
       "       [1.3701297],\n",
       "       [1.3652655],\n",
       "       [1.3553013],\n",
       "       [1.3507887],\n",
       "       [1.3624913],\n",
       "       [1.3851464],\n",
       "       [1.4164411],\n",
       "       [1.4525079],\n",
       "       [1.4757136],\n",
       "       [1.4760394],\n",
       "       [1.4573934],\n",
       "       [1.4304577],\n",
       "       [1.4132797],\n",
       "       [1.4098881],\n",
       "       [1.4171499],\n",
       "       [1.4266014],\n",
       "       [1.4350272],\n",
       "       [1.4394257],\n",
       "       [1.434501 ],\n",
       "       [1.4267886],\n",
       "       [1.420343 ],\n",
       "       [1.4185652],\n",
       "       [1.4213325],\n",
       "       [1.4277393],\n",
       "       [1.4419551],\n",
       "       [1.4628826],\n",
       "       [1.4892317],\n",
       "       [1.5134836],\n",
       "       [1.5255567],\n",
       "       [1.5244602],\n",
       "       [1.5257295],\n",
       "       [1.5387585],\n",
       "       [1.559733 ],\n",
       "       [1.5782224],\n",
       "       [1.5884674],\n",
       "       [1.5901142],\n",
       "       [1.5908117],\n",
       "       [1.601377 ],\n",
       "       [1.6219637],\n",
       "       [1.6362374],\n",
       "       [1.6347371],\n",
       "       [1.6180269],\n",
       "       [1.5906353],\n",
       "       [1.5604109],\n",
       "       [1.5368131],\n",
       "       [1.5308276],\n",
       "       [1.5423087],\n",
       "       [1.5649198],\n",
       "       [1.5924557],\n",
       "       [1.614646 ],\n",
       "       [1.6260005],\n",
       "       [1.6250575],\n",
       "       [1.6177623],\n",
       "       [1.6100222],\n",
       "       [1.6091374],\n",
       "       [1.6156546],\n",
       "       [1.6277418],\n",
       "       [1.6439401],\n",
       "       [1.6596981],\n",
       "       [1.6755943],\n",
       "       [1.6946205],\n",
       "       [1.7101351],\n",
       "       [1.7212702],\n",
       "       [1.7304887],\n",
       "       [1.7428473],\n",
       "       [1.7203985],\n",
       "       [1.6618918],\n",
       "       [1.5889539],\n",
       "       [1.5327095],\n",
       "       [1.5057775],\n",
       "       [1.5000321],\n",
       "       [1.5038844],\n",
       "       [1.5093471],\n",
       "       [1.5142779],\n",
       "       [1.5076717],\n",
       "       [1.4879853],\n",
       "       [1.4772471],\n",
       "       [1.4858923],\n",
       "       [1.5033369],\n",
       "       [1.5125357],\n",
       "       [1.5135356],\n",
       "       [1.5103823],\n",
       "       [1.5029547],\n",
       "       [1.4913235],\n",
       "       [1.478893 ],\n",
       "       [1.4631318],\n",
       "       [1.4471576],\n",
       "       [1.4299439],\n",
       "       [1.3928566],\n",
       "       [1.3476359],\n",
       "       [1.3046213],\n",
       "       [1.272966 ],\n",
       "       [1.2625116],\n",
       "       [1.2753847],\n",
       "       [1.3026435],\n",
       "       [1.3325064],\n",
       "       [1.3600653],\n",
       "       [1.3803806],\n",
       "       [1.3938929],\n",
       "       [1.4047098],\n",
       "       [1.4131066],\n",
       "       [1.4212302],\n",
       "       [1.4317118],\n",
       "       [1.4408723],\n",
       "       [1.4371849],\n",
       "       [1.4196507],\n",
       "       [1.3942565],\n",
       "       [1.3706983],\n",
       "       [1.3597804],\n",
       "       [1.3661228],\n",
       "       [1.3875033],\n",
       "       [1.4181408],\n",
       "       [1.444054 ],\n",
       "       [1.46139  ],\n",
       "       [1.4747952],\n",
       "       [1.4865118],\n",
       "       [1.496024 ],\n",
       "       [1.5039018],\n",
       "       [1.5104991],\n",
       "       [1.5127698],\n",
       "       [1.5106648],\n",
       "       [1.5006077],\n",
       "       [1.4882146],\n",
       "       [1.4805223],\n",
       "       [1.4763161],\n",
       "       [1.4725221],\n",
       "       [1.5067937],\n",
       "       [1.5696491],\n",
       "       [1.6324347],\n",
       "       [1.6732837],\n",
       "       [1.6851014],\n",
       "       [1.6697825],\n",
       "       [1.625589 ],\n",
       "       [1.5751878],\n",
       "       [1.5361234],\n",
       "       [1.5251502],\n",
       "       [1.5328449],\n",
       "       [1.5437086]], dtype=float32)"
      ]
     },
     "execution_count": 34,
     "metadata": {},
     "output_type": "execute_result"
    }
   ],
   "source": [
    "y_pred = model.predict(X_test)\n",
    "y_pred"
   ]
  },
  {
   "cell_type": "code",
   "execution_count": 20,
   "id": "bdd19cf8",
   "metadata": {},
   "outputs": [],
   "source": [
    "predicted_price = sc.inverse_transform(y_pred)"
   ]
  },
  {
   "cell_type": "code",
   "execution_count": 21,
   "id": "cfa386c4",
   "metadata": {},
   "outputs": [
    {
     "data": {
      "image/png": "[encoded data removed]",
      "text/plain": [
       "<Figure size 432x288 with 1 Axes>"
      ]
     },
     "metadata": {
      "needs_background": "light"
     },
     "output_type": "display_data"
    }
   ],
   "source": [
    "plt.plot(y_test, color = 'red', label = 'Actual Stock Price')\n",
    "plt.plot(predicted_price, color = 'green', label = 'Predicted Stock Price')\n",
    "plt.title('Google stock price prediction')\n",
    "plt.xlabel('Time')\n",
    "plt.ylabel('Stock Price')\n",
    "plt.legend()\n",
    "plt.show()"
   ]
  },
  {
   "cell_type": "code",
   "execution_count": 39,
   "id": "70afa8c4",
   "metadata": {},
   "outputs": [
    {
     "ename": "NameError",
     "evalue": "name 'r2_score' is not defined",
     "output_type": "error",
     "traceback": [
      "\u001b[1;31m---------------------------------------------------------------------------\u001b[0m",
      "\u001b[1;31mNameError\u001b[0m                                 Traceback (most recent call last)",
      "Input \u001b[1;32mIn [39]\u001b[0m, in \u001b[0;36m<cell line: 1>\u001b[1;34m()\u001b[0m\n\u001b[0;32m      1\u001b[0m scores \u001b[38;5;241m=\u001b[39m \u001b[38;5;124mf\u001b[39m\u001b[38;5;124m'''\u001b[39m\n\u001b[0;32m      2\u001b[0m \u001b[38;5;132;01m{\u001b[39;00m\u001b[38;5;124m'\u001b[39m\u001b[38;5;124mMetric\u001b[39m\u001b[38;5;124m'\u001b[39m\u001b[38;5;241m.\u001b[39mljust(\u001b[38;5;241m10\u001b[39m)\u001b[38;5;132;01m}\u001b[39;00m\u001b[38;5;132;01m{\u001b[39;00m\u001b[38;5;124m'\u001b[39m\u001b[38;5;124mTrain\u001b[39m\u001b[38;5;124m'\u001b[39m\u001b[38;5;241m.\u001b[39mcenter(\u001b[38;5;241m20\u001b[39m)\u001b[38;5;132;01m}\u001b[39;00m\u001b[38;5;132;01m{\u001b[39;00m\u001b[38;5;124m'\u001b[39m\u001b[38;5;124mTest\u001b[39m\u001b[38;5;124m'\u001b[39m\u001b[38;5;241m.\u001b[39mcenter(\u001b[38;5;241m20\u001b[39m)\u001b[38;5;132;01m}\u001b[39;00m\n\u001b[1;32m----> 3\u001b[0m \u001b[38;5;132;01m{\u001b[39;00m\u001b[38;5;124m'\u001b[39m\u001b[38;5;124mr2_score\u001b[39m\u001b[38;5;124m'\u001b[39m\u001b[38;5;241m.\u001b[39mljust(\u001b[38;5;241m10\u001b[39m)\u001b[38;5;132;01m}\u001b[39;00m\u001b[38;5;132;01m{\u001b[39;00mr2_score(Y_train, lm\u001b[38;5;241m.\u001b[39mpredict(X_train))\u001b[38;5;132;01m}\u001b[39;00m\u001b[38;5;130;01m\\t\u001b[39;00m\u001b[38;5;132;01m{\u001b[39;00mr2_score(Y_test, lm\u001b[38;5;241m.\u001b[39mpredict(X_test))\u001b[38;5;132;01m}\u001b[39;00m\n\u001b[0;32m      4\u001b[0m \u001b[38;5;132;01m{\u001b[39;00m\u001b[38;5;124m'\u001b[39m\u001b[38;5;124mMSE\u001b[39m\u001b[38;5;124m'\u001b[39m\u001b[38;5;241m.\u001b[39mljust(\u001b[38;5;241m10\u001b[39m)\u001b[38;5;132;01m}\u001b[39;00m\u001b[38;5;132;01m{\u001b[39;00mmse(Y_train, lm\u001b[38;5;241m.\u001b[39mpredict(X_train))\u001b[38;5;132;01m}\u001b[39;00m\u001b[38;5;130;01m\\t\u001b[39;00m\u001b[38;5;132;01m{\u001b[39;00mmse(Y_test, lm\u001b[38;5;241m.\u001b[39mpredict(X_test))\u001b[38;5;132;01m}\u001b[39;00m\n\u001b[0;32m      5\u001b[0m \u001b[38;5;124m'''\u001b[39m\n\u001b[0;32m      6\u001b[0m \u001b[38;5;28mprint\u001b[39m(scores)\n",
      "\u001b[1;31mNameError\u001b[0m: name 'r2_score' is not defined"
     ]
    }
   ],
   "source": [
    "scores = f'''\n",
    "{'Metric'.ljust(10)}{'Train'.center(20)}{'Test'.center(20)}\n",
    "{'r2_score'.ljust(10)}{r2_score(Y_train, lm.predict(X_train))}\\t{r2_score(Y_test, lm.predict(X_test))}\n",
    "{'MSE'.ljust(10)}{mse(Y_train, lm.predict(X_train))}\\t{mse(Y_test, lm.predict(X_test))}\n",
    "'''\n",
    "print(scores)"
   ]
  },
  {
   "cell_type": "code",
   "execution_count": null,
   "id": "f58e73b5",
   "metadata": {},
   "outputs": [],
   "source": []
  }
 ],
 "metadata": {
  "kernelspec": {
   "display_name": "Python 3 (ipykernel)",
   "language": "python",
   "name": "python3"
  },
  "language_info": {
   "codemirror_mode": {
    "name": "ipython",
    "version": 3
   },
   "file_extension": ".py",
   "mimetype": "text/x-python",
   "name": "python",
   "nbconvert_exporter": "python",
   "pygments_lexer": "ipython3",
   "version": "3.10.5"
  }
 },
 "nbformat": 4,
 "nbformat_minor": 5
}
